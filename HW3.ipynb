{
 "cells": [
  {
   "cell_type": "markdown",
   "metadata": {},
   "source": [
    "Задание 1"
   ]
  },
  {
   "cell_type": "code",
   "execution_count": 1,
   "metadata": {},
   "outputs": [],
   "source": [
    "data = [\n",
    "    [13, 25, 23, 34],\n",
    "    [45, 32, 44, 47],\n",
    "    [12, 33, 23, 95],\n",
    "    [13, 53, 34, 35],\n",
    "]"
   ]
  },
  {
   "cell_type": "code",
   "execution_count": 17,
   "metadata": {},
   "outputs": [
    {
     "data": {
      "text/plain": [
       "4"
      ]
     },
     "execution_count": 17,
     "metadata": {},
     "output_type": "execute_result"
    }
   ],
   "source": [
    "len(data)"
   ]
  },
  {
   "cell_type": "code",
   "execution_count": 18,
   "metadata": {},
   "outputs": [],
   "source": [
    "def diag(dataset):\n",
    "    summa = 0\n",
    "    for i in range(len(dataset)):\n",
    "        for j in range(len(dataset)):\n",
    "            if i == j:\n",
    "                 summa += dataset[i][j]\n",
    "    return summa"
   ]
  },
  {
   "cell_type": "code",
   "execution_count": 19,
   "metadata": {},
   "outputs": [
    {
     "data": {
      "text/plain": [
       "103"
      ]
     },
     "execution_count": 19,
     "metadata": {},
     "output_type": "execute_result"
    }
   ],
   "source": [
    "diag(data)"
   ]
  },
  {
   "cell_type": "markdown",
   "metadata": {},
   "source": [
    "Задание 2"
   ]
  },
  {
   "cell_type": "code",
   "execution_count": 30,
   "metadata": {},
   "outputs": [],
   "source": [
    "data = [1, '5', 'abc', 20, '2']"
   ]
  },
  {
   "cell_type": "code",
   "execution_count": 54,
   "metadata": {},
   "outputs": [],
   "source": [
    "def sum_square(dataset):\n",
    "    a = 0\n",
    "    for i in dataset:\n",
    "        try:\n",
    "            a += int(i)**2\n",
    "        except ValueError:\n",
    "            continue\n",
    "                  \n",
    "    return a"
   ]
  },
  {
   "cell_type": "code",
   "execution_count": 55,
   "metadata": {},
   "outputs": [
    {
     "data": {
      "text/plain": [
       "430"
      ]
     },
     "execution_count": 55,
     "metadata": {},
     "output_type": "execute_result"
    }
   ],
   "source": [
    "sum_square(data)"
   ]
  },
  {
   "cell_type": "markdown",
   "metadata": {},
   "source": [
    "Задание 3"
   ]
  },
  {
   "cell_type": "code",
   "execution_count": 165,
   "metadata": {},
   "outputs": [],
   "source": [
    "import requests\n",
    "def max_cur():\n",
    "    currs = requests.get('https://www.cbr-xml-daily.ru/daily_json.js')\n",
    "    cur_items = currs.json()['Valute']\n",
    "    max_cur = ''\n",
    "    max_val = 0\n",
    "    for i in cur_items:\n",
    "        if cur_items[i]['Value'] > max_val:\n",
    "            max_val = cur_items[i]['Value']\n",
    "            max_cur = i\n",
    "    return print({max_cur: max_val})"
   ]
  },
  {
   "cell_type": "code",
   "execution_count": 166,
   "metadata": {},
   "outputs": [
    {
     "name": "stdout",
     "output_type": "stream",
     "text": [
      "{'CNY': 96.4182}\n",
      "None\n"
     ]
    }
   ],
   "source": [
    "print (max_cur())"
   ]
  },
  {
   "cell_type": "markdown",
   "metadata": {},
   "source": [
    "Задание 4"
   ]
  },
  {
   "cell_type": "code",
   "execution_count": null,
   "metadata": {},
   "outputs": [],
   "source": [
    "def cny(self):\n",
    "        \"\"\"Возвращает курс странной валюты на сегодня в формате self.format\"\"\"\n",
    "        return self.make_format('CNY')"
   ]
  },
  {
   "cell_type": "code",
   "execution_count": null,
   "metadata": {},
   "outputs": [],
   "source": [
    "def make_diff(self, cur, diff):\n",
    "        self.diff = diff\n",
    "        \"\"\"\n",
    "        Возвращает разницу между значениями Previuos и Value, если diff принимает значение True\n",
    "                        \n",
    "            'Previous': 79.6765,\n",
    "            'Value': 79.4966\n",
    "        \n",
    "        Rate('value').make_diff('USD', 'True')\n",
    "        \"\"\"\n",
    "        response = self.exchange_rates()\n",
    "        \n",
    "        if cur in response:\n",
    "            if self.diff == 'True':\n",
    "                return response[cur]['Value'] - response[cur]['Previous'] \n",
    "         \n",
    "        return 'Error'\n",
    "\n",
    "    Rate('full').make_diff('USD', 'True')\n",
    "    "
   ]
  },
  {
   "cell_type": "markdown",
   "metadata": {},
   "source": [
    "Задание 5"
   ]
  },
  {
   "cell_type": "code",
   "execution_count": 72,
   "metadata": {},
   "outputs": [],
   "source": [
    "def fib(n):\n",
    "    ryad = [0,1]\n",
    "    for i in range(n):\n",
    "        if n <= 2:\n",
    "            return print('Не смешно! Введите аргумент для расчета ряда Фибоначчи!')\n",
    "        else:\n",
    "            *_, a, b = ryad\n",
    "            ryad.append(a + b)\n",
    "    return sum(ryad)            "
   ]
  },
  {
   "cell_type": "code",
   "execution_count": 73,
   "metadata": {},
   "outputs": [
    {
     "data": {
      "text/plain": [
       "232"
      ]
     },
     "execution_count": 73,
     "metadata": {},
     "output_type": "execute_result"
    }
   ],
   "source": [
    "fib(10)"
   ]
  },
  {
   "cell_type": "markdown",
   "metadata": {},
   "source": [
    "Задание 6"
   ]
  },
  {
   "cell_type": "code",
   "execution_count": 212,
   "metadata": {},
   "outputs": [],
   "source": [
    "def list_2_dict(list1):\n",
    "    for i in range(len(list1)):\n",
    "        if i == 0:\n",
    "            key1 = list1[i]\n",
    "        if i == 1:\n",
    "            key2 = list1[i]\n",
    "        if i == 2:\n",
    "            key3 = list1[i]\n",
    "        if i == 3:\n",
    "            key4 = list1[i]\n",
    "    d = dict([(key1, dict([(key2, dict([(key3, key4)]))]))])\n",
    "    return d"
   ]
  },
  {
   "cell_type": "code",
   "execution_count": 213,
   "metadata": {
    "scrolled": true
   },
   "outputs": [
    {
     "data": {
      "text/plain": [
       "{'2018-01-01': {'yandex': {'cpc': 100}}}"
      ]
     },
     "execution_count": 213,
     "metadata": {},
     "output_type": "execute_result"
    }
   ],
   "source": [
    "list_2_dict(['2018-01-01', 'yandex', 'cpc', 100])"
   ]
  }
 ],
 "metadata": {
  "kernelspec": {
   "display_name": "Python 3",
   "language": "python",
   "name": "python3"
  },
  "language_info": {
   "codemirror_mode": {
    "name": "ipython",
    "version": 3
   },
   "file_extension": ".py",
   "mimetype": "text/x-python",
   "name": "python",
   "nbconvert_exporter": "python",
   "pygments_lexer": "ipython3",
   "version": "3.7.0"
  }
 },
 "nbformat": 4,
 "nbformat_minor": 2
}
