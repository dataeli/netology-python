{
 "cells": [
  {
   "cell_type": "markdown",
   "metadata": {},
   "source": [
    "Задание 1"
   ]
  },
  {
   "cell_type": "code",
   "execution_count": 29,
   "metadata": {},
   "outputs": [],
   "source": [
    "from datetime import datetime\n",
    "from datetime import timedelta\n",
    "def date_range(start_date, end_date):\n",
    "    fd = datetime.strptime(start_date, '%Y-%m-%d')\n",
    "    ld = datetime.strptime(end_date, '%Y-%m-%d')\n",
    "    days_range = []\n",
    "    while fd < ld:\n",
    "        fd += timedelta(days=1)\n",
    "        if fd == ld:\n",
    "            break\n",
    "        days_range.append(fd.strftime('%Y-%m-%d'))\n",
    "    return days_range    "
   ]
  },
  {
   "cell_type": "code",
   "execution_count": 30,
   "metadata": {},
   "outputs": [
    {
     "data": {
      "text/plain": [
       "['2018-01-02',\n",
       " '2018-01-03',\n",
       " '2018-01-04',\n",
       " '2018-01-05',\n",
       " '2018-01-06',\n",
       " '2018-01-07',\n",
       " '2018-01-08',\n",
       " '2018-01-09',\n",
       " '2018-01-10',\n",
       " '2018-01-11',\n",
       " '2018-01-12',\n",
       " '2018-01-13',\n",
       " '2018-01-14',\n",
       " '2018-01-15',\n",
       " '2018-01-16',\n",
       " '2018-01-17',\n",
       " '2018-01-18',\n",
       " '2018-01-19',\n",
       " '2018-01-20',\n",
       " '2018-01-21',\n",
       " '2018-01-22',\n",
       " '2018-01-23',\n",
       " '2018-01-24',\n",
       " '2018-01-25',\n",
       " '2018-01-26',\n",
       " '2018-01-27',\n",
       " '2018-01-28',\n",
       " '2018-01-29',\n",
       " '2018-01-30',\n",
       " '2018-01-31']"
      ]
     },
     "execution_count": 30,
     "metadata": {},
     "output_type": "execute_result"
    }
   ],
   "source": [
    "date_range('2018-1-1', '2018-2-1')"
   ]
  },
  {
   "cell_type": "markdown",
   "metadata": {},
   "source": [
    "Задание 2"
   ]
  },
  {
   "cell_type": "code",
   "execution_count": 32,
   "metadata": {},
   "outputs": [],
   "source": [
    "def date_range(start_date, end_date):\n",
    "    try:\n",
    "        fd = datetime.strptime(start_date, '%Y-%m-%d')\n",
    "        ld = datetime.strptime(end_date, '%Y-%m-%d')\n",
    "        days_range = []\n",
    "        if ld <= fd:\n",
    "            days_range = []\n",
    "        else:\n",
    "            while fd < ld:\n",
    "                fd += timedelta(days=1)\n",
    "                if fd == ld:\n",
    "                    break\n",
    "                days_range.append(fd.strftime('%Y-%m-%d'))\n",
    "    except:\n",
    "        days_range = []\n",
    "    return days_range    "
   ]
  },
  {
   "cell_type": "code",
   "execution_count": 35,
   "metadata": {},
   "outputs": [
    {
     "data": {
      "text/plain": [
       "[]"
      ]
     },
     "execution_count": 35,
     "metadata": {},
     "output_type": "execute_result"
    }
   ],
   "source": [
    "date_range('2018-67-1', '2018-2-1')"
   ]
  },
  {
   "cell_type": "markdown",
   "metadata": {},
   "source": [
    "Задание 3"
   ]
  },
  {
   "cell_type": "code",
   "execution_count": 36,
   "metadata": {},
   "outputs": [],
   "source": [
    "stream = ['2018-04-02', '2018-02-29', '2018-19-02']"
   ]
  },
  {
   "cell_type": "code",
   "execution_count": 40,
   "metadata": {},
   "outputs": [],
   "source": [
    "def correct_date(potok):\n",
    "    new_list = []\n",
    "    for i in potok:\n",
    "        try:\n",
    "            datetime.strptime(i, '%Y-%m-%d')\n",
    "            new_list.append('True')\n",
    "        except:\n",
    "            new_list.append('False')\n",
    "    return new_list"
   ]
  },
  {
   "cell_type": "code",
   "execution_count": 41,
   "metadata": {},
   "outputs": [
    {
     "data": {
      "text/plain": [
       "['True', 'False', 'False']"
      ]
     },
     "execution_count": 41,
     "metadata": {},
     "output_type": "execute_result"
    }
   ],
   "source": [
    "correct_date(stream)"
   ]
  },
  {
   "cell_type": "markdown",
   "metadata": {},
   "source": [
    "Задание 4"
   ]
  },
  {
   "cell_type": "code",
   "execution_count": 92,
   "metadata": {},
   "outputs": [],
   "source": [
    "def strange_func(segodnya):\n",
    "    try :\n",
    "        dt_segodnya = datetime.strptime(segodnya, '%Y-%m-%d')\n",
    "        if dt_segodnya.day == 1:\n",
    "            m = dt_segodnya.month -1\n",
    "            y = dt_segodnya.year\n",
    "            dmax = datetime(y, m+1, 1) - datetime(y, m, 1)\n",
    "            for i in range(dmax.days):\n",
    "                 print(datetime(y, m, i+1).strftime('%Y-%m-%d'))\n",
    "        else:\n",
    "            m = dt_segodnya.month\n",
    "            y = dt_segodnya.year\n",
    "            for i in range(dt_segodnya.day -1):\n",
    "                print(datetime(y, m, i+1).strftime('%Y-%m-%d'))\n",
    "             \n",
    "    except:\n",
    "        print('Введите корректную дату!')\n",
    "        \n",
    "        "
   ]
  },
  {
   "cell_type": "code",
   "execution_count": 96,
   "metadata": {},
   "outputs": [
    {
     "name": "stdout",
     "output_type": "stream",
     "text": [
      "2018-11-01\n",
      "2018-11-02\n",
      "2018-11-03\n",
      "2018-11-04\n",
      "2018-11-05\n",
      "2018-11-06\n",
      "2018-11-07\n",
      "2018-11-08\n",
      "2018-11-09\n",
      "2018-11-10\n",
      "2018-11-11\n",
      "2018-11-12\n",
      "2018-11-13\n",
      "2018-11-14\n",
      "2018-11-15\n",
      "2018-11-16\n",
      "2018-11-17\n",
      "2018-11-18\n",
      "2018-11-19\n",
      "2018-11-20\n",
      "2018-11-21\n",
      "2018-11-22\n",
      "2018-11-23\n",
      "2018-11-24\n",
      "2018-11-25\n",
      "2018-11-26\n",
      "2018-11-27\n",
      "2018-11-28\n",
      "2018-11-29\n",
      "2018-11-30\n"
     ]
    }
   ],
   "source": [
    "strange_func('2018-12-1')"
   ]
  },
  {
   "cell_type": "markdown",
   "metadata": {},
   "source": [
    "Задание 5"
   ]
  },
  {
   "cell_type": "code",
   "execution_count": 139,
   "metadata": {},
   "outputs": [],
   "source": [
    "def point_date(phrase):\n",
    "    if phrase == 'today':\n",
    "        answer_date = datetime.now()\n",
    "        answer = answer_date.strftime('%Y-%m-%d')\n",
    "        \n",
    "    elif phrase == 'last monday':\n",
    "        date_buf = datetime.now()\n",
    "        while date_buf.weekday() != 0:\n",
    "            date_buf -= timedelta(days = 1)\n",
    "        answer = date_buf.strftime('%Y-%m-%d')\n",
    "        \n",
    "    elif phrase == 'last day':\n",
    "        date_buf = datetime.now()\n",
    "        y = date_buf.year\n",
    "        m = date_buf.month\n",
    "        fd_in_m = datetime(y, m, 1)\n",
    "        try:\n",
    "            nm = datetime(y, m+1, 1)\n",
    "            dmax = (nm - fd_in_m).days\n",
    "            answer_date = datetime(y, m, dmax)\n",
    "            answer = answer_date.strftime('%Y-%m-%d')\n",
    "            \n",
    "        except:\n",
    "            answer_date = datetime(y, m, 31)\n",
    "            answer = answer_date.strftime('%Y-%m-%d')\n",
    "    \n",
    "        \n",
    "           \n",
    "    return answer  "
   ]
  },
  {
   "cell_type": "code",
   "execution_count": 140,
   "metadata": {},
   "outputs": [
    {
     "data": {
      "text/plain": [
       "'2018-12-10'"
      ]
     },
     "execution_count": 140,
     "metadata": {},
     "output_type": "execute_result"
    }
   ],
   "source": [
    "point_date('last monday')"
   ]
  },
  {
   "cell_type": "markdown",
   "metadata": {},
   "source": [
    "Задание 6"
   ]
  },
  {
   "cell_type": "code",
   "execution_count": 174,
   "metadata": {},
   "outputs": [],
   "source": [
    " def split_weeks(start_date, end_date):\n",
    "        sd = datetime.strptime(start_date, '%Y-%m-%d')\n",
    "        ed = datetime.strptime(end_date, '%Y-%m-%d')\n",
    "        week_list = []\n",
    "        full_list = []\n",
    "        i = 0\n",
    "        while sd <= ed:\n",
    "            for i in range(7):\n",
    "                i = sd.weekday()\n",
    "                week_list.append(sd.strftime('%Y-%m-%d'))\n",
    "                sd += timedelta(days = 1)\n",
    "                if sd > ed:\n",
    "                    break\n",
    "                if i == 6:\n",
    "                    i = 0\n",
    "                    full_list.append(week_list)\n",
    "                    week_list = []\n",
    "            itog_list = [x for x in full_list if len(x) == 7]                        \n",
    "        \n",
    "        return print(itog_list)"
   ]
  },
  {
   "cell_type": "code",
   "execution_count": 175,
   "metadata": {},
   "outputs": [
    {
     "name": "stdout",
     "output_type": "stream",
     "text": [
      "[['2018-12-03', '2018-12-04', '2018-12-05', '2018-12-06', '2018-12-07', '2018-12-08', '2018-12-09'], ['2018-12-10', '2018-12-11', '2018-12-12', '2018-12-13', '2018-12-14', '2018-12-15', '2018-12-16'], ['2018-12-17', '2018-12-18', '2018-12-19', '2018-12-20', '2018-12-21', '2018-12-22', '2018-12-23'], ['2018-12-24', '2018-12-25', '2018-12-26', '2018-12-27', '2018-12-28', '2018-12-29', '2018-12-30']]\n"
     ]
    }
   ],
   "source": [
    "split_weeks('2018-12-1', '2018-12-31')"
   ]
  },
  {
   "cell_type": "code",
   "execution_count": null,
   "metadata": {},
   "outputs": [],
   "source": []
  }
 ],
 "metadata": {
  "kernelspec": {
   "display_name": "Python 3",
   "language": "python",
   "name": "python3"
  },
  "language_info": {
   "codemirror_mode": {
    "name": "ipython",
    "version": 3
   },
   "file_extension": ".py",
   "mimetype": "text/x-python",
   "name": "python",
   "nbconvert_exporter": "python",
   "pygments_lexer": "ipython3",
   "version": "3.7.0"
  }
 },
 "nbformat": 4,
 "nbformat_minor": 2
}
