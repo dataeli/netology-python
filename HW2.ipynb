{
 "cells": [
  {
   "cell_type": "markdown",
   "metadata": {},
   "source": [
    "Задание 1"
   ]
  },
  {
   "cell_type": "code",
   "execution_count": 2,
   "metadata": {},
   "outputs": [],
   "source": [
    "geo_logs = [\n",
    "\n",
    "['visit1', ['Москва', 'Россия']],\n",
    "\n",
    "['visit2', ['Дели', 'Индия']],\n",
    "\n",
    "['visit3', ['Владимир', 'Россия']],\n",
    "\n",
    "['visit4', ['Лиссабон', 'Португалия']],\n",
    "\n",
    "['visit5', ['Париж', 'Франция']],\n",
    "\n",
    "['visit6', ['Лиссабон', 'Португалия']],\n",
    "\n",
    "['visit7', ['Тула', 'Россия']],\n",
    "\n",
    "['visit8', ['Тула', 'Россия']],\n",
    "\n",
    "['visit9', ['Курск', 'Россия']],\n",
    "\n",
    "['visit10', ['Архангельск', 'Россия']],\n",
    "\n",
    "]"
   ]
  },
  {
   "cell_type": "code",
   "execution_count": 13,
   "metadata": {},
   "outputs": [
    {
     "data": {
      "text/plain": [
       "[['visit1', ['Москва', 'Россия']],\n",
       " ['visit3', ['Владимир', 'Россия']],\n",
       " ['visit7', ['Тула', 'Россия']],\n",
       " ['visit8', ['Тула', 'Россия']],\n",
       " ['visit9', ['Курск', 'Россия']],\n",
       " ['visit10', ['Архангельск', 'Россия']]]"
      ]
     },
     "execution_count": 13,
     "metadata": {},
     "output_type": "execute_result"
    }
   ],
   "source": [
    "geo_ru = []\n",
    "for fil in geo_logs:\n",
    "    if 'Россия' in fil[1]:\n",
    "        geo_ru.append(fil)\n",
    "geo_ru"
   ]
  },
  {
   "cell_type": "markdown",
   "metadata": {},
   "source": [
    "Задание 2"
   ]
  },
  {
   "cell_type": "code",
   "execution_count": 15,
   "metadata": {},
   "outputs": [],
   "source": [
    "ids = {'user1': [213, 213, 213, 15, 213], 'user2': [54, 54, 119, 119, 119], 'user3': [213, 98, 98, 35]}"
   ]
  },
  {
   "cell_type": "code",
   "execution_count": 21,
   "metadata": {},
   "outputs": [],
   "source": [
    "sum_list = []\n",
    "for k in ids.values():\n",
    "    sum_list = sum_list + k"
   ]
  },
  {
   "cell_type": "code",
   "execution_count": 23,
   "metadata": {},
   "outputs": [
    {
     "data": {
      "text/plain": [
       "{15, 35, 54, 98, 119, 213}"
      ]
     },
     "execution_count": 23,
     "metadata": {},
     "output_type": "execute_result"
    }
   ],
   "source": [
    "set(sum_list)"
   ]
  },
  {
   "cell_type": "markdown",
   "metadata": {},
   "source": [
    "Задание 3"
   ]
  },
  {
   "cell_type": "code",
   "execution_count": 37,
   "metadata": {},
   "outputs": [],
   "source": [
    "queries = [\n",
    "\n",
    "'смотреть сериалы онлайн',\n",
    "\n",
    "'новости спорта',\n",
    "\n",
    "'афиша кино',\n",
    "\n",
    "'курс доллара',\n",
    "\n",
    "'сериалы этим летом',\n",
    "\n",
    "'курс по питону',\n",
    "\n",
    "'сериалы про спорт',\n",
    "\n",
    "]"
   ]
  },
  {
   "cell_type": "code",
   "execution_count": 38,
   "metadata": {},
   "outputs": [],
   "source": [
    "prob = []\n",
    "for srch in queries:\n",
    "    prob.append(srch.count(' ')+1)"
   ]
  },
  {
   "cell_type": "code",
   "execution_count": 39,
   "metadata": {},
   "outputs": [],
   "source": [
    "summa = len(prob)"
   ]
  },
  {
   "cell_type": "code",
   "execution_count": 40,
   "metadata": {},
   "outputs": [],
   "source": [
    "slov = set(prob)"
   ]
  },
  {
   "cell_type": "code",
   "execution_count": 48,
   "metadata": {},
   "outputs": [
    {
     "name": "stdout",
     "output_type": "stream",
     "text": [
      "Поисковых запросов из 2 слов 43 %\n",
      "Поисковых запросов из 3 слов 57 %\n"
     ]
    }
   ],
   "source": [
    "for cnt in slov:\n",
    "    ololo = round(prob.count(cnt)/summa*100)\n",
    "    print (\"Поисковых запросов из \" + str(cnt) + \" слов \" + str(ololo) + \" %\")"
   ]
  },
  {
   "cell_type": "markdown",
   "metadata": {},
   "source": [
    "Задание 4"
   ]
  },
  {
   "cell_type": "code",
   "execution_count": 51,
   "metadata": {},
   "outputs": [],
   "source": [
    "stats = {'facebook': 55, 'yandex': 120, 'vk': 115, 'google': 99, 'email': 42, 'ok': 98}"
   ]
  },
  {
   "cell_type": "code",
   "execution_count": 58,
   "metadata": {},
   "outputs": [],
   "source": [
    "sort_stats = sorted(stats.items(), key=lambda x: -x[1])"
   ]
  },
  {
   "cell_type": "code",
   "execution_count": 59,
   "metadata": {},
   "outputs": [
    {
     "data": {
      "text/plain": [
       "'yandex'"
      ]
     },
     "execution_count": 59,
     "metadata": {},
     "output_type": "execute_result"
    }
   ],
   "source": [
    "sort_stats[0][0]"
   ]
  },
  {
   "cell_type": "markdown",
   "metadata": {},
   "source": [
    "Задание 5"
   ]
  },
  {
   "cell_type": "code",
   "execution_count": 76,
   "metadata": {},
   "outputs": [],
   "source": [
    "stream = [\n",
    "\n",
    "'2018-01-01,user1,3',\n",
    "\n",
    "'2018-01-07,user1,4',\n",
    "\n",
    "'2018-03-29,user1,1',\n",
    "\n",
    "'2018-04-04,user1,13',\n",
    "\n",
    "'2018-01-05,user2,7',\n",
    "\n",
    "'2018-06-14,user3,4',\n",
    "\n",
    "'2018-07-02,user3,10',\n",
    "\n",
    "'2018-03-21,user4,19',\n",
    "\n",
    "'2018-03-22,user4,4',\n",
    "\n",
    "'2018-04-22,user4,8',\n",
    "\n",
    "'2018-05-03,user4,9',\n",
    "\n",
    "'2018-05-11,user4,11',\n",
    "\n",
    "]"
   ]
  },
  {
   "cell_type": "code",
   "execution_count": 77,
   "metadata": {},
   "outputs": [],
   "source": [
    "new_list = []\n",
    "for i in stream:\n",
    "    new_list.append(i.split(','))"
   ]
  },
  {
   "cell_type": "code",
   "execution_count": 91,
   "metadata": {},
   "outputs": [],
   "source": [
    "usr = []\n",
    "looks = []\n",
    "for bb in new_list:\n",
    "    usr.append(bb[1])\n",
    "    looks.append(int(bb[2]))"
   ]
  },
  {
   "cell_type": "code",
   "execution_count": 81,
   "metadata": {},
   "outputs": [
    {
     "data": {
      "text/plain": [
       "4"
      ]
     },
     "execution_count": 81,
     "metadata": {},
     "output_type": "execute_result"
    }
   ],
   "source": [
    "pisch = len(set(usr))"
   ]
  },
  {
   "cell_type": "code",
   "execution_count": 93,
   "metadata": {},
   "outputs": [],
   "source": [
    "pipisch = sum(looks)"
   ]
  },
  {
   "cell_type": "code",
   "execution_count": 97,
   "metadata": {},
   "outputs": [
    {
     "name": "stdout",
     "output_type": "stream",
     "text": [
      "Среднее количество просмотров на пользователя 23\n"
     ]
    }
   ],
   "source": [
    "print (\"Среднее количество просмотров на пользователя \" + str(round(pipisch / pisch)))"
   ]
  },
  {
   "cell_type": "code",
   "execution_count": null,
   "metadata": {},
   "outputs": [],
   "source": []
  }
 ],
 "metadata": {
  "kernelspec": {
   "display_name": "Python 3",
   "language": "python",
   "name": "python3"
  },
  "language_info": {
   "codemirror_mode": {
    "name": "ipython",
    "version": 3
   },
   "file_extension": ".py",
   "mimetype": "text/x-python",
   "name": "python",
   "nbconvert_exporter": "python",
   "pygments_lexer": "ipython3",
   "version": "3.7.0"
  }
 },
 "nbformat": 4,
 "nbformat_minor": 2
}
